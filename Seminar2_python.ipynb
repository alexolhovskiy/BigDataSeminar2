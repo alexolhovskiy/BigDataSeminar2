{
 "cells": [
  {
   "cell_type": "code",
   "execution_count": 1,
   "id": "7f26b3e7-d485-4d47-b0fa-bb4533045967",
   "metadata": {},
   "outputs": [],
   "source": [
    "import pandas as pd\n",
    "import numpy as np\n",
    "from functools import reduce"
   ]
  },
  {
   "cell_type": "code",
   "execution_count": 2,
   "id": "2396875c-eed0-42ac-be20-d21bf793d652",
   "metadata": {},
   "outputs": [
    {
     "name": "stdout",
     "output_type": "stream",
     "text": [
      "152.7206871868289 57672.84569843359\n"
     ]
    }
   ],
   "source": [
    "data=pd.read_csv('apache-spark-docker-main\\docker\\workspace\\AB_NYC_2019.csv')\n",
    "mean_control=data['price'].mean()\n",
    "var_control=np.var(data['price'])\n",
    "print(mean_control,var_control)"
   ]
  },
  {
   "cell_type": "code",
   "execution_count": 12,
   "id": "fec4bd7d-c804-4942-b001-6ebd5a158046",
   "metadata": {},
   "outputs": [
    {
     "name": "stdout",
     "output_type": "stream",
     "text": [
      "19384.865360134005\n",
      "(152.7206871868289, 19773.035129751934)\n"
     ]
    }
   ],
   "source": [
    "def comFunc(res, x):\n",
    "    return res[0] + x, res[1] + 1\n",
    "\n",
    "def integralFunc(temp):\n",
    "    # Сумма значений и количествои количество для расчета дисперсии\n",
    "    com_value, com_cnt,var_dev = reduce(lambda res, item: (res[0] + item[0], res[1] + item[1],res[2]+(item[1]-1)), temp,(0,0,0))\n",
    "    com_mean = com_value / com_cnt\n",
    "    \n",
    "    # Теперь считаем общую дисперсию из дисперсий кусков\n",
    "    com_temp = reduce(lambda res, item: res + (item[2] * (item[1] - 1) + item[1] * ((item[0] - com_mean) ** 2)), temp, 0)\n",
    "    com_var = com_temp / (com_cnt - 1) if com_cnt > 1 else 0  # Избегаем деления на ноль\n",
    "\n",
    "    print(np.mean(temp[2]))#посчитаем просто среднее по дисперсиям - для того чтоб подтвердить, что посчитанная по кускам оющая дисперсия близка к этому значению\n",
    "    \n",
    "    return com_mean, com_var/var_dev #почти равно com_var/com_cnt\n",
    "\n",
    "\n",
    "chunksize = 200\n",
    "temp = []\n",
    "for chunk in pd.read_csv('apache-spark-docker-main/docker/workspace/AB_NYC_2019.csv', chunksize=chunksize):\n",
    "    # Считаем сумму, количество и дисперсию для каждого чанка\n",
    "    sum_prices, count_prices = reduce(comFunc, chunk['price'], (0, 0))\n",
    "    var_price = np.var(chunk['price'], ddof=1)  # Используем ddof=1 для выборочной дисперсии\n",
    "    temp.append((sum_prices, count_prices, var_price))\n",
    "    \n",
    "\n",
    "print(integralFunc(temp))\n"
   ]
  },
  {
   "cell_type": "code",
   "execution_count": null,
   "id": "e1dfdc79-1f31-4a9d-a7d5-342dc0089024",
   "metadata": {},
   "outputs": [],
   "source": []
  },
  {
   "cell_type": "code",
   "execution_count": null,
   "id": "77f7041d-e5b9-44e4-a8c7-cf8c2881d836",
   "metadata": {},
   "outputs": [],
   "source": []
  }
 ],
 "metadata": {
  "kernelspec": {
   "display_name": "Python 3 (ipykernel)",
   "language": "python",
   "name": "python3"
  },
  "language_info": {
   "codemirror_mode": {
    "name": "ipython",
    "version": 3
   },
   "file_extension": ".py",
   "mimetype": "text/x-python",
   "name": "python",
   "nbconvert_exporter": "python",
   "pygments_lexer": "ipython3",
   "version": "3.11.4"
  }
 },
 "nbformat": 4,
 "nbformat_minor": 5
}
